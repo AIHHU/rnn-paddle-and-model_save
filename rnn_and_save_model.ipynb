{
 "cells": [
  {
   "cell_type": "code",
   "execution_count": 1,
   "metadata": {
    "collapsed": false
   },
   "outputs": [
    {
     "name": "stderr",
     "output_type": "stream",
     "text": [
      "/opt/conda/envs/python35-paddle120-env/lib/python3.7/site-packages/paddle/fluid/layers/utils.py:26: DeprecationWarning: `np.int` is a deprecated alias for the builtin `int`. To silence this warning, use `int` by itself. Doing this will not modify any behavior and is safe. When replacing `np.int`, you may wish to use e.g. `np.int64` or `np.int32` to specify the precision. If you wish to review your current use, check the release note link for additional information.\n",
      "Deprecated in NumPy 1.20; for more details and guidance: https://numpy.org/devdocs/release/1.20.0-notes.html#deprecations\n",
      "  def convert_to_list(value, n, name, dtype=np.int):\n",
      "/opt/conda/envs/python35-paddle120-env/lib/python3.7/site-packages/paddle/fluid/framework.py:687: DeprecationWarning: `np.bool` is a deprecated alias for the builtin `bool`. To silence this warning, use `bool` by itself. Doing this will not modify any behavior and is safe. If you specifically wanted the numpy scalar type, use `np.bool_` here.\n",
      "Deprecated in NumPy 1.20; for more details and guidance: https://numpy.org/devdocs/release/1.20.0-notes.html#deprecations\n",
      "  elif dtype == np.bool:\n"
     ]
    },
    {
     "name": "stdout",
     "output_type": "stream",
     "text": [
      "Pass:0, Batch:0, Cost:0.70243, Accuracy:0.22656\n",
      "Pass:0, Batch:10, Cost:0.00001, Accuracy:1.00000\n",
      "Pass:0, Batch:20, Cost:0.00005, Accuracy:1.00000\n",
      "Pass:0, Batch:30, Cost:0.00003, Accuracy:1.00000\n",
      "Pass:0, Batch:40, Cost:0.00004, Accuracy:1.00000\n",
      "Pass:0, Batch:50, Cost:0.00001, Accuracy:1.00000\n",
      "Pass:0, Batch:60, Cost:0.00001, Accuracy:1.00000\n",
      "Pass:0, Batch:70, Cost:0.00000, Accuracy:1.00000\n",
      "Pass:0, Batch:80, Cost:0.00004, Accuracy:1.00000\n",
      "Pass:0, Batch:90, Cost:0.00004, Accuracy:1.00000\n",
      "Pass:0, Batch:100, Cost:1.27651, Accuracy:0.00000\n",
      "Pass:0, Batch:110, Cost:1.22711, Accuracy:0.00000\n",
      "Pass:0, Batch:120, Cost:1.17444, Accuracy:0.00000\n",
      "Pass:0, Batch:130, Cost:1.14945, Accuracy:0.00000\n",
      "Pass:0, Batch:140, Cost:1.12816, Accuracy:0.00000\n",
      "Pass:0, Batch:150, Cost:1.07141, Accuracy:0.00000\n",
      "Pass:0, Batch:160, Cost:1.02571, Accuracy:0.00000\n",
      "Pass:0, Batch:170, Cost:0.98311, Accuracy:0.00000\n",
      "Pass:0, Batch:180, Cost:0.94634, Accuracy:0.00000\n",
      "Pass:0, Batch:190, Cost:0.91952, Accuracy:0.00781\n",
      "Test:0, Cost:0.70458, Accuracy:0.50471\n"
     ]
    }
   ],
   "source": [
    "import paddle\n",
    "import paddle.fluid as fluid\n",
    "import paddle.dataset.imdb as imdb\n",
    "paddle.enable_static()\n",
    "def rnn_net(ipt, input_dim):\n",
    "    emb=fluid.embedding(input=ipt,size=[input_dim,128],is_sparse=True)\n",
    "    sentence=fluid.layers.fc(input=emb, size=128, act='tanh')\n",
    "    rnn=fluid.layers.DynamicRNN()\n",
    "    with rnn.block():\n",
    "        word=rnn.step_input(sentence)\n",
    "        prev=rnn.memory(shape=[128])\n",
    "        hidden=fluid.layers.fc(input=[word,prev],size=128,act='relu')\n",
    "        rnn.update_memory(prev,hidden)\n",
    "        rnn.output(hidden)\n",
    "    last=fluid.layers.sequence_last_step(rnn())\n",
    "    out=fluid.layers.fc(input=last, size=2,act='softmax')\n",
    "    return out\n",
    "words=fluid.data(name='words',shape=[None,1], dtype='int64', lod_level=1)#这个是输入层\n",
    "word_dict=imdb.word_dict()\n",
    "dict_dim=len(word_dict)\n",
    "model=rnn_net(words, dict_dim)#相当于输出层\n",
    "infer_program=fluid.default_main_program().clone(for_test=True)\n",
    "\n",
    "label=fluid.data(name='label',shape=[None,1],dtype='int64')\n",
    "cost=fluid.layers.cross_entropy(input=model,label=label)\n",
    "avg_cost=fluid.layers.mean(cost)\n",
    "acc=fluid.layers.accuracy(input=model,label=label)\n",
    "test_program=fluid.default_main_program().clone(for_test=True)\n",
    "optimizer=fluid.optimizer.AdagradOptimizer(learning_rate=0.002)\n",
    "opt=optimizer.minimize(avg_cost)\n",
    "\n",
    "place=paddle.CUDAPlace(0)\n",
    "exe=fluid.Executor(place)\n",
    "exe.run(fluid.default_startup_program())\n",
    "\n",
    "train_reader=paddle.batch(imdb.train(word_dict),batch_size=128)\n",
    "test_reader=paddle.batch(imdb.test(word_dict),batch_size=128)\n",
    "feeder=fluid.DataFeeder(place=place, feed_list=[words, label])\n",
    "\n",
    "for pass_id in range(1):\n",
    "    train_cost=0\n",
    "    for batch_id, data in enumerate(train_reader()):\n",
    "        train_cost,train_acc=exe.run(program=fluid.default_main_program(),\n",
    "                                     feed=feeder.feed(data),\n",
    "                                     fetch_list=[avg_cost, acc])\n",
    "        if batch_id%10==0:\n",
    "            print('Pass:%d, Batch:%d, Cost:%0.5f, Accuracy:%0.5f' %\n",
    "                  (pass_id, batch_id, train_cost[0], train_acc[0]))\n",
    "    test_costs=[]\n",
    "    test_accs=[]\n",
    "    for batch_id,data in enumerate(test_reader()):\n",
    "        test_cost,test_acc=exe.run(program=test_program,\n",
    "                                   feed=feeder.feed(data),\n",
    "                                   fetch_list=[avg_cost, acc])\n",
    "        test_costs.append(test_cost[0])\n",
    "        test_accs.append(test_acc[0])\n",
    "    test_cost=(sum(test_costs)/len(test_costs))\n",
    "    test_acc=(sum(test_accs)/len(test_accs))\n",
    "    print('Test:%d, Cost:%0.5f, Accuracy:%0.5f' %\n",
    "          (pass_id, test_cost, test_acc))"
   ]
  },
  {
   "cell_type": "markdown",
   "metadata": {
    "collapsed": false
   },
   "source": [
    "大佬们train出来的都是80，我train出来50"
   ]
  },
  {
   "cell_type": "code",
   "execution_count": 16,
   "metadata": {
    "collapsed": false
   },
   "outputs": [
    {
     "data": {
      "text/plain": [
       "['save_infer_model/scale_0.tmp_2']"
      ]
     },
     "execution_count": 16,
     "metadata": {},
     "output_type": "execute_result"
    }
   ],
   "source": [
    "import os\r\n",
    "save_path='.//work//model//'\r\n",
    "fluid.io.save_persistables(executor=exe, dirname=save_path)#用于初始化或者迁移学习\r\n",
    "fluid.io.save_params(executor=exe, dirname=save_path)#只用于初始化，所以不常用\r\n",
    "fluid.io.save_inference_model(dirname=save_path,\r\n",
    "                            feeded_var_names=[words.name],\r\n",
    "                            target_vars=[model],\r\n",
    "                            executor=exe)#推理模型"
   ]
  },
  {
   "cell_type": "code",
   "execution_count": 6,
   "metadata": {
    "collapsed": false
   },
   "outputs": [
    {
     "name": "stdout",
     "output_type": "stream",
     "text": [
      "[['awesome', 'movie'], ['this', 'is', 'a', 'terrible', 'movie'], ['this', 'is', 'very', 'bad']]\n",
      "[[1163, 16], [9, 5, 2, 376, 16], [9, 5, 51, 81]]\n",
      "[[2, 5, 4]]\n"
     ]
    }
   ],
   "source": [
    "import numpy as np\r\n",
    "reviews_str=['awesome movie',\r\n",
    "            'this is a terrible movie',\r\n",
    "            'this is very bad']\r\n",
    "reviews=[c.split() for c in reviews_str]\r\n",
    "print(reviews)\r\n",
    "UNK=word_dict['<unk>']\r\n",
    "lod=[]\r\n",
    "for c in reviews:\r\n",
    "    lod.append([np.int64(word_dict.get(words.encode('utf-8'),UNK)) for words in c])\r\n",
    "print(lod)\r\n",
    "base_shape=[[len(c) for c in lod]]\r\n",
    "print(base_shape)\r\n",
    "tensor_words=fluid.create_lod_tensor(lod,base_shape,place)"
   ]
  },
  {
   "cell_type": "code",
   "execution_count": 8,
   "metadata": {
    "collapsed": false
   },
   "outputs": [
    {
     "name": "stdout",
     "output_type": "stream",
     "text": [
      "[[0.5371809  0.46281907]\n",
      " [0.5688881  0.43111184]\n",
      " [0.568448   0.431552  ]]\n"
     ]
    }
   ],
   "source": [
    "results=exe.run(program=infer_program,\r\n",
    "                feed={words.name:tensor_words},\r\n",
    "                fetch_list=[model])\r\n",
    "print(results[0])"
   ]
  },
  {
   "cell_type": "code",
   "execution_count": 18,
   "metadata": {
    "collapsed": false
   },
   "outputs": [
    {
     "name": "stdout",
     "output_type": "stream",
     "text": [
      "[array([[0.5371809 , 0.46281907],\n",
      "       [0.5688881 , 0.43111184],\n",
      "       [0.568448  , 0.431552  ]], dtype=float32)]\n"
     ]
    }
   ],
   "source": [
    "exe.run(fluid.default_startup_program())#重新对执行器进行初始化\r\n",
    "[infer_program,input_layer,output_layer]=fluid.io.load_inference_model(dirname=save_path,executor=exe)\r\n",
    "results_by_saved_inference_model=exe.run(program=infer_program,\r\n",
    "                                        feed={input_layer[0]:tensor_words},\r\n",
    "                                        fetch_list=output_layer)#因为输入层和输出层保存时都是列表保存的，所以返回时也是列表\r\n",
    "print(results_by_saved_inference_model)"
   ]
  },
  {
   "cell_type": "markdown",
   "metadata": {
    "collapsed": false
   },
   "source": [
    "用保存的预测模型进行推理"
   ]
  },
  {
   "cell_type": "markdown",
   "metadata": {
    "collapsed": false
   },
   "source": [
    "直接使用内存里的参数进行预测，程序退出后无法使用"
   ]
  },
  {
   "cell_type": "markdown",
   "metadata": {
    "collapsed": false
   },
   "source": [
    "请点击[此处](https://ai.baidu.com/docs#/AIStudio_Project_Notebook/a38e5576)查看本环境基本用法.  <br>\n",
    "Please click [here ](https://ai.baidu.com/docs#/AIStudio_Project_Notebook/a38e5576) for more detailed instructions. "
   ]
  }
 ],
 "metadata": {
  "kernelspec": {
   "display_name": "PaddlePaddle 2.0.0b0 (Python 3.5)",
   "language": "python",
   "name": "py35-paddle1.2.0"
  },
  "language_info": {
   "codemirror_mode": {
    "name": "ipython",
    "version": 3
   },
   "file_extension": ".py",
   "mimetype": "text/x-python",
   "name": "python",
   "nbconvert_exporter": "python",
   "pygments_lexer": "ipython3",
   "version": "3.7.4"
  }
 },
 "nbformat": 4,
 "nbformat_minor": 1
}
